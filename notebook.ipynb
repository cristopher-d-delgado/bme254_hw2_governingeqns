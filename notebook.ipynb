{
 "cells": [
  {
   "cell_type": "code",
   "execution_count": 1,
   "metadata": {},
   "outputs": [],
   "source": [
    "import numpy as np\n",
    "import pandas as pd"
   ]
  },
  {
   "cell_type": "code",
   "execution_count": 2,
   "metadata": {},
   "outputs": [],
   "source": [
    "# Define our matrices and R values\n",
    "R1 = 1.591E27\n",
    "R2 = 2.387E27\n",
    "R3 = 1.432E28\n",
    "R4 = 4.775E27 \n",
    "\n",
    "A = np.array([\n",
    "    [1, 0, 0, 0, 0, 0, 0, 0, 0],\n",
    "    [0, 0, 0, 1, 0, 0, 0, 0, 0], \n",
    "    [1, 0, 0, 0, 1, -R1, 0, 0, 0],\n",
    "    [0, 1, 0, 0, 1, 0, -R2, 0, 0],\n",
    "    [0, 0, 1, 0, 1, 0, 0, -R3, 0],\n",
    "    [0, 0, 0, 1, 1, 0, 0, 0, -R4],\n",
    "    [0, 0, 0, 0, 0, 1, 1, 0, 0], \n",
    "    [0, 0, 0, 0, 0, 1, 0, 1, 0],\n",
    "    [0, 0, 0, 0, 0, 1, 1, 1, 1]\n",
    "])\n",
    "\n",
    "b = np.array([\n",
    "    [400000],\n",
    "    [100000],\n",
    "    [0],\n",
    "    [0],\n",
    "    [0],\n",
    "    [0],\n",
    "    [0],\n",
    "    [0],\n",
    "    [0]\n",
    "])"
   ]
  },
  {
   "cell_type": "code",
   "execution_count": 3,
   "metadata": {},
   "outputs": [],
   "source": [
    "# Solve system of equations\n",
    "x = np.linalg.solve(A, b)"
   ]
  },
  {
   "cell_type": "code",
   "execution_count": 4,
   "metadata": {},
   "outputs": [
    {
     "name": "stdout",
     "output_type": "stream",
     "text": [
      "[[ 4.00000000e+05]\n",
      " [ 7.74811558e+05]\n",
      " [ 1.89915201e+06]\n",
      " [ 1.00000000e+05]\n",
      " [-5.49905779e+05]\n",
      " [-9.42211055e-23]\n",
      " [ 9.42211055e-23]\n",
      " [ 9.42211055e-23]\n",
      " [-9.42211055e-23]]\n"
     ]
    }
   ],
   "source": [
    "print(x)"
   ]
  },
  {
   "cell_type": "code",
   "execution_count": 8,
   "metadata": {},
   "outputs": [],
   "source": [
    "data_dict = {\n",
    "    'p1': x[0],\n",
    "    'p2': x[1],\n",
    "    'p3': x[2],\n",
    "    'p4': x[3],\n",
    "    'p5': x[4],\n",
    "    'Q1': x[5],\n",
    "    'Q2': x[6],\n",
    "    'Q3': x[7],\n",
    "    'Q4': x[8]\n",
    "}"
   ]
  },
  {
   "cell_type": "code",
   "execution_count": 6,
   "metadata": {},
   "outputs": [
    {
     "name": "stdout",
     "output_type": "stream",
     "text": [
      "{'p1': array([400000.]), 'p2': array([774811.55778894]), 'p3': array([1899152.01005025]), 'p4': array([100000.]), 'p5': array([-549905.77889447]), 'Q1': array([-9.42211055e-23]), 'Q2': array([9.42211055e-23]), 'Q3': array([9.42211055e-23]), 'Q4': array([-9.42211055e-23])}\n"
     ]
    }
   ],
   "source": [
    "print(data_dict)"
   ]
  },
  {
   "cell_type": "code",
   "execution_count": 11,
   "metadata": {},
   "outputs": [],
   "source": [
    "df = pd.DataFrame(data_dict.items(), columns=['Variable', 'Value'])"
   ]
  },
  {
   "cell_type": "code",
   "execution_count": 10,
   "metadata": {},
   "outputs": [
    {
     "data": {
      "text/html": [
       "<div>\n",
       "<style scoped>\n",
       "    .dataframe tbody tr th:only-of-type {\n",
       "        vertical-align: middle;\n",
       "    }\n",
       "\n",
       "    .dataframe tbody tr th {\n",
       "        vertical-align: top;\n",
       "    }\n",
       "\n",
       "    .dataframe thead th {\n",
       "        text-align: right;\n",
       "    }\n",
       "</style>\n",
       "<table border=\"1\" class=\"dataframe\">\n",
       "  <thead>\n",
       "    <tr style=\"text-align: right;\">\n",
       "      <th></th>\n",
       "      <th>Key</th>\n",
       "      <th>Value</th>\n",
       "    </tr>\n",
       "  </thead>\n",
       "  <tbody>\n",
       "    <tr>\n",
       "      <th>0</th>\n",
       "      <td>p1</td>\n",
       "      <td>[400000.0]</td>\n",
       "    </tr>\n",
       "    <tr>\n",
       "      <th>1</th>\n",
       "      <td>p2</td>\n",
       "      <td>[774811.5577889446]</td>\n",
       "    </tr>\n",
       "    <tr>\n",
       "      <th>2</th>\n",
       "      <td>p3</td>\n",
       "      <td>[1899152.0100502511]</td>\n",
       "    </tr>\n",
       "    <tr>\n",
       "      <th>3</th>\n",
       "      <td>p4</td>\n",
       "      <td>[100000.0]</td>\n",
       "    </tr>\n",
       "    <tr>\n",
       "      <th>4</th>\n",
       "      <td>p5</td>\n",
       "      <td>[-549905.7788944723]</td>\n",
       "    </tr>\n",
       "    <tr>\n",
       "      <th>5</th>\n",
       "      <td>Q1</td>\n",
       "      <td>[-9.422110552763815e-23]</td>\n",
       "    </tr>\n",
       "    <tr>\n",
       "      <th>6</th>\n",
       "      <td>Q2</td>\n",
       "      <td>[9.422110552763818e-23]</td>\n",
       "    </tr>\n",
       "    <tr>\n",
       "      <th>7</th>\n",
       "      <td>Q3</td>\n",
       "      <td>[9.422110552763818e-23]</td>\n",
       "    </tr>\n",
       "    <tr>\n",
       "      <th>8</th>\n",
       "      <td>Q4</td>\n",
       "      <td>[-9.422110552763817e-23]</td>\n",
       "    </tr>\n",
       "  </tbody>\n",
       "</table>\n",
       "</div>"
      ],
      "text/plain": [
       "  Key                     Value\n",
       "0  p1                [400000.0]\n",
       "1  p2       [774811.5577889446]\n",
       "2  p3      [1899152.0100502511]\n",
       "3  p4                [100000.0]\n",
       "4  p5      [-549905.7788944723]\n",
       "5  Q1  [-9.422110552763815e-23]\n",
       "6  Q2   [9.422110552763818e-23]\n",
       "7  Q3   [9.422110552763818e-23]\n",
       "8  Q4  [-9.422110552763817e-23]"
      ]
     },
     "execution_count": 10,
     "metadata": {},
     "output_type": "execute_result"
    }
   ],
   "source": [
    "df"
   ]
  }
 ],
 "metadata": {
  "kernelspec": {
   "display_name": "learn-env",
   "language": "python",
   "name": "python3"
  },
  "language_info": {
   "codemirror_mode": {
    "name": "ipython",
    "version": 3
   },
   "file_extension": ".py",
   "mimetype": "text/x-python",
   "name": "python",
   "nbconvert_exporter": "python",
   "pygments_lexer": "ipython3",
   "version": "3.8.5"
  },
  "orig_nbformat": 4
 },
 "nbformat": 4,
 "nbformat_minor": 2
}
